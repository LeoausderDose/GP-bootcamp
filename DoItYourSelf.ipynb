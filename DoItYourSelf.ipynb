{
 "cells": [
  {
   "cell_type": "markdown",
   "id": "f3b245e9",
   "metadata": {},
   "source": [
    "# Do it yourself"
   ]
  },
  {
   "cell_type": "code",
   "execution_count": null,
   "id": "0a327e9a",
   "metadata": {},
   "outputs": [],
   "source": [
    "import numpy as np\n",
    "import matplotlib.pyplot as plt\n",
    "\n",
    "noise_level = 0.1\n",
    "\n",
    "def f2_exp(x, y, center_x=0.7, center_y=0.3, alpha_x=40.0, alpha_y=40.0,\n",
    "           noise_std=noise_level, noise_enabled=True, seed=None):\n",
    "    \"\"\"\n",
    "    Funktion: exp(-alpha_x * (x - center_x)^2 - alpha_y * (y - center_y)^2) + Rauschen\n",
    "\n",
    "    Parameter:\n",
    "    - x, y: Eingabewerte (1D oder 2D numpy arrays, broadcastbar)\n",
    "    - center_x, center_y: Lage des Maximums\n",
    "    - alpha_x, alpha_y: Steilheit der Abnahme in x- bzw. y-Richtung\n",
    "    - noise_std: Standardabweichung des Gaußschen Rauschens\n",
    "    - noise_enabled: ob Rauschen hinzugefügt wird (bool)\n",
    "    - seed: Zufallssamen für reproduzierbare Rauschwerte (int oder None)\n",
    "    \"\"\"\n",
    "    if seed is not None:\n",
    "        np.random.seed(seed)\n",
    "    exponent = -alpha_x * (x - center_x) ** 2 - alpha_y * (y - center_y) ** 2\n",
    "    signal = np.exp(exponent)\n",
    "    if noise_enabled:\n",
    "        noise = np.random.normal(0, noise_std, size=signal.shape)\n",
    "        return signal + noise\n",
    "    else:\n",
    "        return signal\n",
    "\n",
    "# Ohne Rauschen\n",
    "def f2_exp_without_noise(x, y, center_x=0.7, center_y=0.3, alpha_x=40.0, alpha_y=40.0):\n",
    "    exponent = -alpha_x * (x - center_x) ** 2 - alpha_y * (y - center_y) ** 2\n",
    "    return np.exp(exponent)\n",
    "\n",
    "# Beispielnutzung\n",
    "x = np.linspace(0, 1, 200)\n",
    "y = np.linspace(0, 1, 200)\n",
    "X, Y = np.meshgrid(x, y)\n",
    "Z = f2_exp_without_noise(X, Y)\n",
    "\n",
    "plt.figure(figsize=(8, 6))\n",
    "plt.contourf(X, Y, Z, levels=100, cmap='viridis')\n",
    "plt.colorbar(label='f(x, y)')\n",
    "plt.scatter([0.7], [0.3], color='red', label='Maximum')\n",
    "plt.title(\"2D Exponential Peak at (0.7, 0.3)\", fontsize=16)\n",
    "plt.xlabel(\"x\")\n",
    "plt.ylabel(\"y\")\n",
    "plt.legend()\n",
    "plt.show()\n"
   ]
  },
  {
   "cell_type": "code",
   "execution_count": null,
   "id": "660ab510",
   "metadata": {},
   "outputs": [],
   "source": []
  }
 ],
 "metadata": {
  "language_info": {
   "name": "python"
  }
 },
 "nbformat": 4,
 "nbformat_minor": 5
}
